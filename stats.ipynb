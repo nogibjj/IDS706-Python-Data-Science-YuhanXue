{
 "cells": [
  {
   "cell_type": "markdown",
   "id": "881d3ae0-4a14-4052-8f4b-59161de5da64",
   "metadata": {},
   "source": [
    "# Descriptive Statistics Using Pandas of Diabetes Dataset"
   ]
  },
  {
   "cell_type": "markdown",
   "id": "5a4f5c34-17e8-4dcf-a3a6-af3b0cb8ebaa",
   "metadata": {},
   "source": [
    "## Load Data"
   ]
  },
  {
   "cell_type": "code",
   "execution_count": 1,
   "id": "d80bcd01-f694-4119-b92d-44afdc728db6",
   "metadata": {},
   "outputs": [],
   "source": [
    "from lib import get_mean, get_median, get_stddev, get_distributino_plot\n",
    "import pandas as pd\n",
    "import matplotlib.pyplot as plt"
   ]
  },
  {
   "cell_type": "code",
   "execution_count": 2,
   "id": "e8339f61-cb32-4fa4-baec-7ca58db7a55a",
   "metadata": {},
   "outputs": [
    {
     "data": {
      "text/html": [
       "<div>\n",
       "<style scoped>\n",
       "    .dataframe tbody tr th:only-of-type {\n",
       "        vertical-align: middle;\n",
       "    }\n",
       "\n",
       "    .dataframe tbody tr th {\n",
       "        vertical-align: top;\n",
       "    }\n",
       "\n",
       "    .dataframe thead th {\n",
       "        text-align: right;\n",
       "    }\n",
       "</style>\n",
       "<table border=\"1\" class=\"dataframe\">\n",
       "  <thead>\n",
       "    <tr style=\"text-align: right;\">\n",
       "      <th></th>\n",
       "      <th>Pregnancies</th>\n",
       "      <th>Glucose</th>\n",
       "      <th>BloodPressure</th>\n",
       "      <th>SkinThickness</th>\n",
       "      <th>Insulin</th>\n",
       "      <th>BMI</th>\n",
       "      <th>DiabetesPedigreeFunction</th>\n",
       "      <th>Age</th>\n",
       "      <th>Outcome</th>\n",
       "    </tr>\n",
       "  </thead>\n",
       "  <tbody>\n",
       "    <tr>\n",
       "      <th>0</th>\n",
       "      <td>6</td>\n",
       "      <td>148</td>\n",
       "      <td>72</td>\n",
       "      <td>35</td>\n",
       "      <td>0</td>\n",
       "      <td>33.6</td>\n",
       "      <td>0.627</td>\n",
       "      <td>50</td>\n",
       "      <td>1</td>\n",
       "    </tr>\n",
       "    <tr>\n",
       "      <th>1</th>\n",
       "      <td>1</td>\n",
       "      <td>85</td>\n",
       "      <td>66</td>\n",
       "      <td>29</td>\n",
       "      <td>0</td>\n",
       "      <td>26.6</td>\n",
       "      <td>0.351</td>\n",
       "      <td>31</td>\n",
       "      <td>0</td>\n",
       "    </tr>\n",
       "    <tr>\n",
       "      <th>2</th>\n",
       "      <td>8</td>\n",
       "      <td>183</td>\n",
       "      <td>64</td>\n",
       "      <td>0</td>\n",
       "      <td>0</td>\n",
       "      <td>23.3</td>\n",
       "      <td>0.672</td>\n",
       "      <td>32</td>\n",
       "      <td>1</td>\n",
       "    </tr>\n",
       "    <tr>\n",
       "      <th>3</th>\n",
       "      <td>1</td>\n",
       "      <td>89</td>\n",
       "      <td>66</td>\n",
       "      <td>23</td>\n",
       "      <td>94</td>\n",
       "      <td>28.1</td>\n",
       "      <td>0.167</td>\n",
       "      <td>21</td>\n",
       "      <td>0</td>\n",
       "    </tr>\n",
       "    <tr>\n",
       "      <th>4</th>\n",
       "      <td>0</td>\n",
       "      <td>137</td>\n",
       "      <td>40</td>\n",
       "      <td>35</td>\n",
       "      <td>168</td>\n",
       "      <td>43.1</td>\n",
       "      <td>2.288</td>\n",
       "      <td>33</td>\n",
       "      <td>1</td>\n",
       "    </tr>\n",
       "  </tbody>\n",
       "</table>\n",
       "</div>"
      ],
      "text/plain": [
       "   Pregnancies  Glucose  BloodPressure  SkinThickness  Insulin   BMI  \\\n",
       "0            6      148             72             35        0  33.6   \n",
       "1            1       85             66             29        0  26.6   \n",
       "2            8      183             64              0        0  23.3   \n",
       "3            1       89             66             23       94  28.1   \n",
       "4            0      137             40             35      168  43.1   \n",
       "\n",
       "   DiabetesPedigreeFunction  Age  Outcome  \n",
       "0                     0.627   50        1  \n",
       "1                     0.351   31        0  \n",
       "2                     0.672   32        1  \n",
       "3                     0.167   21        0  \n",
       "4                     2.288   33        1  "
      ]
     },
     "execution_count": 2,
     "metadata": {},
     "output_type": "execute_result"
    }
   ],
   "source": [
    "# get path from current directory to data folder\n",
    "data = pd.read_csv(\"diabetes.csv\")\n",
    "data.head()"
   ]
  },
  {
   "cell_type": "markdown",
   "id": "b87c9535-f2a6-48c8-b490-7451f12a4aa5",
   "metadata": {},
   "source": [
    "## Define Functions"
   ]
  },
  {
   "cell_type": "code",
   "execution_count": 3,
   "id": "3d11a9c2-9c39-4ca7-8301-d582b5e08c70",
   "metadata": {},
   "outputs": [],
   "source": [
    "def generate_stats(df: pd.DataFrame, col: str):\n",
    "    res = {}\n",
    "    res[\"mean\"] = get_mean(df, col)\n",
    "    res[\"median\"] = get_median(df, col)\n",
    "    res[\"std\"] = get_stddev(df, col)\n",
    "    return res\n",
    "\n",
    "\n",
    "def generate_dist_plots(df: pd.DataFrame, out_dir):\n",
    "    for c in df.columns:\n",
    "        get_distributino_plot(df, c, c, f\"{c} Distribution\", \"./output\")"
   ]
  },
  {
   "cell_type": "markdown",
   "id": "969aca63-f0c5-441c-9d71-96e37c7fdd9a",
   "metadata": {},
   "source": [
    "## Descriptive Statistics\n",
    "We look at overall descriptive statistics from the dataset. These include:\n",
    "\n",
    "- Mean, median and std dev for each column in diabetes.csv"
   ]
  },
  {
   "cell_type": "code",
   "execution_count": 4,
   "id": "6edce8fa-3894-4407-80c5-50a7bf6a342d",
   "metadata": {},
   "outputs": [
    {
     "name": "stdout",
     "output_type": "stream",
     "text": [
      "### Pregnancies\n",
      "Mean: 3.8450520833333335\n",
      "Median: 3.0\n",
      "Std: 3.3695780626988694\n",
      "\n",
      "\n",
      "### Glucose\n",
      "Mean: 120.89453125\n",
      "Median: 117.0\n",
      "Std: 31.97261819513622\n",
      "\n",
      "\n",
      "### BloodPressure\n",
      "Mean: 69.10546875\n",
      "Median: 72.0\n",
      "Std: 19.355807170644777\n",
      "\n",
      "\n",
      "### SkinThickness\n",
      "Mean: 20.536458333333332\n",
      "Median: 23.0\n",
      "Std: 15.952217567727637\n",
      "\n",
      "\n",
      "### Insulin\n",
      "Mean: 79.79947916666667\n",
      "Median: 30.5\n",
      "Std: 115.24400235133817\n",
      "\n",
      "\n",
      "### BMI\n",
      "Mean: 31.992578124999998\n",
      "Median: 32.0\n",
      "Std: 7.884160320375446\n",
      "\n",
      "\n",
      "### DiabetesPedigreeFunction\n",
      "Mean: 0.47187630208333325\n",
      "Median: 0.3725\n",
      "Std: 0.3313285950127749\n",
      "\n",
      "\n",
      "### Age\n",
      "Mean: 33.240885416666664\n",
      "Median: 29.0\n",
      "Std: 11.760231540678685\n",
      "\n",
      "\n",
      "### Outcome\n",
      "Mean: 0.3489583333333333\n",
      "Median: 0.0\n",
      "Std: 0.47695137724279896\n",
      "\n",
      "\n"
     ]
    }
   ],
   "source": [
    "for c in data.columns:\n",
    "    res = generate_stats(data, c)\n",
    "    print(\"### \" + c)\n",
    "    print(f'Mean: {res[\"mean\"]}')\n",
    "    print(f'Median: {res[\"median\"]}')\n",
    "    print(f'Std: {res[\"std\"]}')\n",
    "    print(\"\\n\")"
   ]
  },
  {
   "cell_type": "markdown",
   "id": "c99c5fcc-9ab2-495b-9a92-4aead35478b4",
   "metadata": {},
   "source": [
    "## Distribution Plots\n",
    "We look at the value distribution graph for each column in the diabetes.csv."
   ]
  },
  {
   "cell_type": "code",
   "execution_count": null,
   "id": "b3750387-6865-44c1-a608-35a0c89fd732",
   "metadata": {},
   "outputs": [],
   "source": [
    "for c in data.columns:\n",
    "    get_distributino_plot(data, c, c, f\"{c} Distribution\")\n",
    "    plt.close()"
   ]
  }
 ],
 "metadata": {
  "kernelspec": {
   "display_name": "Python 3 (ipykernel)",
   "language": "python",
   "name": "python3"
  },
  "language_info": {
   "codemirror_mode": {
    "name": "ipython",
    "version": 3
   },
   "file_extension": ".py",
   "mimetype": "text/x-python",
   "name": "python",
   "nbconvert_exporter": "python",
   "pygments_lexer": "ipython3",
   "version": "3.8.10"
  }
 },
 "nbformat": 4,
 "nbformat_minor": 5
}
